{
  "nbformat": 4,
  "nbformat_minor": 0,
  "metadata": {
    "colab": {
      "provenance": []
    },
    "kernelspec": {
      "name": "python3",
      "display_name": "Python 3"
    },
    "language_info": {
      "name": "python"
    }
  },
  "cells": [
    {
      "cell_type": "code",
      "execution_count": 2,
      "metadata": {
        "id": "a6MhGvHudUZC"
      },
      "outputs": [],
      "source": [
        "lst = ['0001', '0011', '0101', '1011', '1111']"
      ]
    },
    {
      "cell_type": "code",
      "source": [
        "decimal_lst = []\n",
        "for x in lst:\n",
        "  decimal = int(x,2) #help from google\n",
        "  decimal_lst.append(decimal)"
      ],
      "metadata": {
        "id": "gm3CFZHheDeE"
      },
      "execution_count": 11,
      "outputs": []
    },
    {
      "cell_type": "code",
      "source": [
        "decimal_lst"
      ],
      "metadata": {
        "colab": {
          "base_uri": "https://localhost:8080/",
          "height": 0
        },
        "id": "6wEDs_pEeYcE",
        "outputId": "bde9979a-37a1-4742-95d3-74782c04ec0a"
      },
      "execution_count": 12,
      "outputs": [
        {
          "output_type": "execute_result",
          "data": {
            "text/plain": [
              "[1, 3, 5, 11, 15]"
            ]
          },
          "metadata": {},
          "execution_count": 12
        }
      ]
    },
    {
      "cell_type": "code",
      "source": [
        "new_lst = []\n",
        "num1 = decimal_lst[0] + decimal_lst[2] + decimal_lst[3]\n",
        "num2 = decimal_lst[1] + decimal_lst[4]\n",
        "\n",
        "new_lst.append(num1)\n",
        "new_lst.append(num2)\n",
        "\n",
        "print(new_lst)\n",
        "#subtraction will be the lowest i.e 1"
      ],
      "metadata": {
        "colab": {
          "base_uri": "https://localhost:8080/",
          "height": 0
        },
        "id": "qyWChJSefdlQ",
        "outputId": "0bc05fa0-270a-4e83-82a7-4e5ea1349c81"
      },
      "execution_count": 16,
      "outputs": [
        {
          "output_type": "stream",
          "name": "stdout",
          "text": [
            "[17, 18]\n"
          ]
        }
      ]
    }
  ]
}