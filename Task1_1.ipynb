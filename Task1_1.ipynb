{
  "nbformat": 4,
  "nbformat_minor": 0,
  "metadata": {
    "colab": {
      "provenance": []
    },
    "kernelspec": {
      "name": "python3",
      "display_name": "Python 3"
    },
    "language_info": {
      "name": "python"
    }
  },
  "cells": [
    {
      "cell_type": "code",
      "execution_count": 16,
      "metadata": {
        "colab": {
          "base_uri": "https://localhost:8080/",
          "height": 0
        },
        "id": "cW8UzwRIPCJ0",
        "outputId": "5ad62c75-c986-4fbd-f578-b5edee8e0134"
      },
      "outputs": [
        {
          "output_type": "execute_result",
          "data": {
            "text/plain": [
              "['CaPtIan_AmERicA', 'iROn_maN', 'MoOn_KNigHt', 'hULk']"
            ]
          },
          "metadata": {},
          "execution_count": 16
        }
      ],
      "source": [
        "jumbled_superheroes = ['CaPtIan_AmERicA' ,'iROn_maN', 'MoOn_KNigHt', 'hULk']\n",
        "jumbled_superheroes"
      ]
    },
    {
      "cell_type": "code",
      "source": [
        "decoded_name = []\n",
        "indices = []\n",
        "\n",
        "\n",
        "for i, names in enumerate(jumbled_superheroes):\n",
        "  indices.append(i)\n",
        "\n",
        "  new_name = names.replace('_', ' ')\n",
        "  new_name = new_name[0].upper() + new_name[1:50].lower()\n",
        "  decoded_name.append(new_name)\n",
        "\n",
        "print(indices,decoded_name)\n"
      ],
      "metadata": {
        "colab": {
          "base_uri": "https://localhost:8080/",
          "height": 0
        },
        "id": "oVBkBd3RPy-k",
        "outputId": "6c184e4e-bc8d-4207-c120-790b450e35b5"
      },
      "execution_count": 24,
      "outputs": [
        {
          "output_type": "stream",
          "name": "stdout",
          "text": [
            "[0, 1, 2, 3] ['Captian america', 'Iron man', 'Moon knight', 'Hulk']\n"
          ]
        }
      ]
    },
    {
      "cell_type": "code",
      "source": [
        "f = lambda a : len(a)\n",
        "name_length = []\n",
        "for i in decoded_name:\n",
        "  length = f(i)\n",
        "  name_length.append(length)\n",
        "\n",
        "print(name_length)"
      ],
      "metadata": {
        "colab": {
          "base_uri": "https://localhost:8080/",
          "height": 0
        },
        "id": "ZRUGcfMBVxij",
        "outputId": "e1761f1b-47e0-4aac-c38d-f4096cc27bff"
      },
      "execution_count": 31,
      "outputs": [
        {
          "output_type": "stream",
          "name": "stdout",
          "text": [
            "[15, 8, 11, 4]\n"
          ]
        }
      ]
    },
    {
      "cell_type": "code",
      "source": [
        "name_length.sort()"
      ],
      "metadata": {
        "id": "lm0RNQedXu4E"
      },
      "execution_count": 33,
      "outputs": []
    },
    {
      "cell_type": "code",
      "source": [
        "name_length"
      ],
      "metadata": {
        "colab": {
          "base_uri": "https://localhost:8080/",
          "height": 0
        },
        "id": "b2Kxo5rEYElw",
        "outputId": "26c1adca-54c4-4bfa-f43e-43e6c42dc2e4"
      },
      "execution_count": 34,
      "outputs": [
        {
          "output_type": "execute_result",
          "data": {
            "text/plain": [
              "[4, 8, 11, 15]"
            ]
          },
          "metadata": {},
          "execution_count": 34
        }
      ]
    },
    {
      "cell_type": "code",
      "source": [
        "alphabetical_sorted = []\n",
        "decoded_names.sort()\n",
        "\n",
        "alphabetical_sorted.append(decoded_names)"
      ],
      "metadata": {
        "id": "qsYEin5uYIvo"
      },
      "execution_count": 48,
      "outputs": []
    },
    {
      "cell_type": "code",
      "source": [
        "alphabetical_sorted"
      ],
      "metadata": {
        "colab": {
          "base_uri": "https://localhost:8080/",
          "height": 0
        },
        "id": "JqOCzTDIZf4a",
        "outputId": "78f261f6-7ab0-4272-d19f-b3171f7af345"
      },
      "execution_count": 47,
      "outputs": [
        {
          "output_type": "execute_result",
          "data": {
            "text/plain": [
              "[['Captian america', 'Hulk', 'Iron man', 'Moon knight']]"
            ]
          },
          "metadata": {},
          "execution_count": 47
        }
      ]
    },
    {
      "cell_type": "code",
      "source": [
        "decoded_names.sort(key = lambda a : len(a))\n",
        "print(decoded_names)"
      ],
      "metadata": {
        "colab": {
          "base_uri": "https://localhost:8080/",
          "height": 0
        },
        "id": "kKV_sNEJZq40",
        "outputId": "96c07cf4-5733-4c6e-c371-fae3225f6622"
      },
      "execution_count": 50,
      "outputs": [
        {
          "output_type": "stream",
          "name": "stdout",
          "text": [
            "['Hulk', 'Iron man', 'Moon knight', 'Captian america']\n"
          ]
        }
      ]
    },
    {
      "cell_type": "code",
      "source": [
        "final_names = []\n",
        "for x in decoded_names:\n",
        "  final_name = x.title()\n",
        "  final_names.append(final_name)\n",
        "final_names"
      ],
      "metadata": {
        "colab": {
          "base_uri": "https://localhost:8080/",
          "height": 0
        },
        "id": "qjK4XtmEbFRu",
        "outputId": "70d5f025-de42-49a3-9f70-8a443821e4be"
      },
      "execution_count": 54,
      "outputs": [
        {
          "output_type": "execute_result",
          "data": {
            "text/plain": [
              "['Hulk', 'Iron Man', 'Moon Knight', 'Captian America']"
            ]
          },
          "metadata": {},
          "execution_count": 54
        }
      ]
    },
    {
      "cell_type": "code",
      "source": [
        "for i,var in enumerate(final_names):\n",
        "  print(f'{i+1}. {var}')\n"
      ],
      "metadata": {
        "colab": {
          "base_uri": "https://localhost:8080/",
          "height": 0
        },
        "id": "57zTFlUMcDlh",
        "outputId": "5824a0a6-bdb1-419f-d9e7-0fd13200a42d"
      },
      "execution_count": 57,
      "outputs": [
        {
          "output_type": "stream",
          "name": "stdout",
          "text": [
            "1. Hulk\n",
            "2. Iron Man\n",
            "3. Moon Knight\n",
            "4. Captian America\n"
          ]
        }
      ]
    }
  ]
}