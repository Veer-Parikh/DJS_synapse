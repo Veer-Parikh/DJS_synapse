{
  "nbformat": 4,
  "nbformat_minor": 0,
  "metadata": {
    "colab": {
      "provenance": []
    },
    "kernelspec": {
      "name": "python3",
      "display_name": "Python 3"
    },
    "language_info": {
      "name": "python"
    }
  },
  "cells": [
    {
      "cell_type": "code",
      "execution_count": 27,
      "metadata": {
        "id": "XC6vA2flifWe"
      },
      "outputs": [],
      "source": [
        "encoded_lst = [\n",
        "    [1,2,4,5,6] ,\n",
        "    [3,4,5,7,8,12],\n",
        "    [12,13,15,16,17],\n",
        "    [18,19,20,23,24,25,27,29]\n",
        "]\n"
      ]
    },
    {
      "cell_type": "code",
      "source": [
        "def explode_chains(encoded_lst):\n",
        "  for lst in encoded_lst:\n",
        "    i=0\n",
        "    while i < len(lst) - 2 :   #help from chatGPT to use while instead of if\n",
        "      if lst[i] == lst[i+1]-1 == lst[i+2]-2:\n",
        "        del lst[i:i+3]\n",
        "       # del lst[i+1]\n",
        "       # del lst[i+2]\n",
        "      else:\n",
        "         i += 1\n",
        "\n",
        "explode_chains(encoded_lst)\n",
        "print(encoded_lst)\n"
      ],
      "metadata": {
        "colab": {
          "base_uri": "https://localhost:8080/"
        },
        "id": "ImpI5fMOjvrn",
        "outputId": "b440ea3b-9c80-43cf-871a-855cb9195b78"
      },
      "execution_count": 35,
      "outputs": [
        {
          "output_type": "stream",
          "name": "stdout",
          "text": [
            "[[1, 2], [7, 8, 12], [12, 13], [27, 29]]\n"
          ]
        }
      ]
    }
  ]
}